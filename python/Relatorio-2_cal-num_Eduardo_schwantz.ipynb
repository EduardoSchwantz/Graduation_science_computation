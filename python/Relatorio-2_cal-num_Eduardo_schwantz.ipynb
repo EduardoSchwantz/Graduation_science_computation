{
  "nbformat": 4,
  "nbformat_minor": 0,
  "metadata": {
    "colab": {
      "provenance": []
    },
    "kernelspec": {
      "name": "python3",
      "display_name": "Python 3"
    },
    "language_info": {
      "name": "python"
    }
  },
  "cells": [
    {
      "cell_type": "markdown",
      "source": [
        "# Imports"
      ],
      "metadata": {
        "id": "RlS5ohL9G3uw"
      }
    },
    {
      "cell_type": "code",
      "source": [
        "import numpy as np\n",
        "import matplotlib.pyplot as plt"
      ],
      "metadata": {
        "id": "UADtY3xQG7me"
      },
      "execution_count": null,
      "outputs": []
    },
    {
      "cell_type": "markdown",
      "source": [
        "# Método de Eliminação de gauss"
      ],
      "metadata": {
        "id": "RDm9CTlrG9tv"
      }
    },
    {
      "cell_type": "code",
      "source": [
        "def gauss_elimination_with_partial_pivoting(A, b):\n",
        "    n = len(b)\n",
        "    AugmentedMatrix = np.column_stack((A, b))\n",
        "\n",
        "    for i in range(n):\n",
        "        max_row = i\n",
        "        for k in range(i+1, n):\n",
        "            if abs(AugmentedMatrix[k, i]) > abs(AugmentedMatrix[max_row, i]):\n",
        "                max_row = k\n",
        "        if max_row != i:\n",
        "            AugmentedMatrix[[i, max_row]] = AugmentedMatrix[[max_row, i]]\n",
        "        for k in range(i+1, n):\n",
        "            factor = AugmentedMatrix[k, i] / AugmentedMatrix[i, i]\n",
        "            AugmentedMatrix[k, i:] -= factor * AugmentedMatrix[i, i:]\n",
        "    x = np.zeros(n)\n",
        "    for i in range(n-1, -1, -1):\n",
        "        x[i] = (AugmentedMatrix[i, -1] - np.dot(AugmentedMatrix[i, i+1:n], x[i+1:])) / AugmentedMatrix[i, i]\n",
        "\n",
        "    return x\n",
        "\n"
      ],
      "metadata": {
        "id": "4eNjm3XfHDpK"
      },
      "execution_count": null,
      "outputs": []
    },
    {
      "cell_type": "markdown",
      "source": [
        "# Método de Fatoração de LU"
      ],
      "metadata": {
        "id": "OFKAVdcLHHtE"
      }
    },
    {
      "cell_type": "code",
      "source": [
        "def lu_factorization(A):\n",
        "    n = len(A)\n",
        "    L = np.zeros((n, n))\n",
        "    U = np.zeros((n, n))\n",
        "\n",
        "    for i in range(n):\n",
        "        L[i][i] = 1\n",
        "\n",
        "    for i in range(n):\n",
        "        for j in range(i, n):\n",
        "            U[i][j] = A[i][j] - sum(L[i][k] * U[k][j] for k in range(i))\n",
        "        for j in range(i+1, n):\n",
        "            L[j][i] = (A[j][i] - sum(L[j][k] * U[k][i] for k in range(i))) / U[i][i]\n",
        "\n",
        "    return L, U\n",
        "\n",
        "def forward_substitution(L, b):\n",
        "    n = len(L)\n",
        "    y = np.linalg.solve(L, b)\n",
        "\n",
        "    return y\n",
        "\n",
        "def backward_substitution(U, y):\n",
        "    n = len(U)\n",
        "    x = np.linalg.solve(U, y)\n",
        "\n",
        "    return x"
      ],
      "metadata": {
        "id": "FF4cWpWeHM7c"
      },
      "execution_count": null,
      "outputs": []
    },
    {
      "cell_type": "markdown",
      "source": [
        "# Método de Cholesky"
      ],
      "metadata": {
        "id": "Wv4XXz8yHRrk"
      }
    },
    {
      "cell_type": "code",
      "source": [
        "def cholesky_decomposition(matrix):\n",
        "    n = len(matrix)\n",
        "    L = np.zeros((n, n))\n",
        "\n",
        "    for i in range(n):\n",
        "        for j in range(i + 1):\n",
        "            if i == j:\n",
        "                L[i][j] = np.sqrt(matrix[i][i] - sum(L[i][k] ** 2 for k in range(j)))\n",
        "            else:\n",
        "                L[i][j] = (1.0 / L[j][j]) * (matrix[i][j] - sum(L[i][k] * L[j][k] for k in range(j)))\n",
        "\n",
        "    return L\n",
        "\n",
        "def is_definite_positive(matrix):\n",
        "    return np.all(np.linalg.eigvals(matrix) > 0)"
      ],
      "metadata": {
        "id": "TT6fvPC-HfRA"
      },
      "execution_count": null,
      "outputs": []
    },
    {
      "cell_type": "markdown",
      "source": [
        "# Método de Gauss_Jacobi"
      ],
      "metadata": {
        "id": "gYEeLDMwHkuI"
      }
    },
    {
      "cell_type": "code",
      "source": [
        "def gauss_jacobi(coefficients, constants, epsilon, max_iterations=1000):\n",
        "    n = len(constants)\n",
        "    x = [0.0] * n\n",
        "    x_new = [0.0] * n\n",
        "    iteration = 0\n",
        "\n",
        "    while iteration < max_iterations:\n",
        "        max_error = 0.0\n",
        "\n",
        "        for i in range(n):\n",
        "            sum_term = 0.0\n",
        "            for j in range(n):\n",
        "                if i != j:\n",
        "                    sum_term += coefficients[i][j] * x[j]\n",
        "\n",
        "            x_new[i] = (constants[i] - sum_term) / coefficients[i][i]\n",
        "\n",
        "            error = abs(x_new[i] - x[i])\n",
        "            if error > max_error:\n",
        "                max_error = error\n",
        "\n",
        "        if max_error < epsilon:\n",
        "            break\n",
        "\n",
        "        x = x_new.copy()\n",
        "        iteration += 1\n",
        "\n",
        "    return x_new"
      ],
      "metadata": {
        "id": "R6DQJ_CSHqcw"
      },
      "execution_count": null,
      "outputs": []
    },
    {
      "cell_type": "markdown",
      "source": [
        "# Método de Gauss_Seidel"
      ],
      "metadata": {
        "id": "gR9LBePRHvol"
      }
    },
    {
      "cell_type": "code",
      "source": [
        "def is_diagonally_dominant(A):\n",
        "    n = len(A)\n",
        "    for i in range(n):\n",
        "        diag = abs(A[i][i])\n",
        "        row_sum = sum(abs(A[i][j]) for j in range(n) if j != i)\n",
        "        if diag <= row_sum:\n",
        "            return False\n",
        "    return True\n",
        "\n",
        "\n",
        "def gauss_seidel(n, A, b, Toler, IterMax=1000):\n",
        "    if not is_diagonally_dominant(A):\n",
        "        return [], 0, 1\n",
        "\n",
        "    info = 0\n",
        "    Iter = 0\n",
        "    x = [0.0] * n\n",
        "    v = x.copy()\n",
        "\n",
        "    for i in range(n):\n",
        "        x[i] = b[i] / A[i][i]\n",
        "\n",
        "    while Iter < IterMax:\n",
        "        Iter += 1\n",
        "        NormaNum = 0.0\n",
        "        NormaDen = 0.0\n",
        "\n",
        "        for i in range(n):\n",
        "            soma = 0.0\n",
        "            for j in range(n):\n",
        "                if i != j:\n",
        "                    soma += A[i][j] * x[j]\n",
        "            v[i] = x[i]\n",
        "            x[i] = (b[i] - soma) / A[i][i]\n",
        "            t = abs(v[i] - x[i])\n",
        "            if t > NormaNum:\n",
        "                NormaNum = t\n",
        "            if abs(x[i]) > NormaDen:\n",
        "                NormaDen = abs(x[i])\n",
        "\n",
        "        NormaRel = NormaNum / (NormaDen + 1e-10)\n",
        "        if NormaRel <= Toler:\n",
        "            break\n",
        "\n",
        "    if NormaRel <= Toler:\n",
        "        info = 0\n",
        "    else:\n",
        "        info = 1\n",
        "\n",
        "    return x, Iter, info\n"
      ],
      "metadata": {
        "id": "c4nLhiSZH0Rw"
      },
      "execution_count": null,
      "outputs": []
    },
    {
      "cell_type": "markdown",
      "source": [
        "# Método para aplicar gráfico questao 4"
      ],
      "metadata": {
        "id": "wb9YFPXQSeH4"
      }
    },
    {
      "cell_type": "code",
      "source": [
        "\n",
        "def Graf():\n",
        "  A = np.array([[1.05, 2.05], [1.1, 2.0]])\n",
        "  b = np.array([5.15, 5.1])\n",
        "\n",
        "  result = np.linalg.solve(A, b)\n",
        "  x1, x2 = result\n",
        "\n",
        "  x = np.linspace(0, 5, 100)\n",
        "  eq1 = (5.15 - 1.05 * x) / 2.05\n",
        "  eq2 = (5.1 - 1.1 * x) / 2.0\n",
        "\n",
        "  plt.figure(figsize=(8, 6))\n",
        "  plt.plot(x, eq1, label='1,05x1 + 2,05x2 = 5,15')\n",
        "  plt.plot(x, eq2, label='1,1x1 + 2,0x2 = 5,1')\n",
        "  plt.scatter(x1, x2, color='red', label=f'Solução (x1, x2) = ({x1:.2f}, {x2:.2f})')\n",
        "  plt.xlabel('x1')\n",
        "  plt.ylabel('x2')\n",
        "  plt.legend()\n",
        "  plt.grid(True)\n",
        "  plt.title('Gráfico do Sistema de Equações')\n",
        "  plt.show()\n"
      ],
      "metadata": {
        "id": "qjvMevD5Spgh"
      },
      "execution_count": null,
      "outputs": []
    },
    {
      "cell_type": "markdown",
      "source": [
        "# 1.  Resolver os sistemas lineares pelos métodos Fatoração LU e Cholesky, se possível.\n",
        "\n",
        "Caso seja possível aplicar o método de Fatoração LU, encontre as matrizes L, U e o\n",
        "vetor solução. E, caso seja possível aplicar o método de Fatoração de Cholesky,\n",
        "encontre as matrizes G, $G^T$ e o vetor solução\n",
        "\n",
        "\n",
        "---\n",
        "\n",
        "\n",
        "$Sistema^1$\n",
        "\\begin{align*}\n",
        "x_1 - 2x_2 + x_3 &= 0 \\\\\n",
        "2x_1 - 2x_2 + x_3 &= 1 \\\\\n",
        "3x_1 - 2x_2 - 2x_3 &= -1\n",
        "\\end{align*}\n",
        "\n",
        "\n",
        "---\n",
        "$Sistema^2$\n",
        "\\begin{align*}\n",
        "5x_1 + 2x_2 + x_3 &= -12 \\\\\n",
        "-x_1 + 4x_2 + 2x_3 &= 20 \\\\\n",
        "2x_1 - 3x_2 + 10x_3 &= 3\n",
        "\\end{align*}\n"
      ],
      "metadata": {
        "id": "gI8PvHKyILde"
      }
    },
    {
      "cell_type": "code",
      "source": [
        "print(\"Utilizando o Método de Fatoração LU\")\n",
        "Arredond = 2\n",
        "A = np.array([[1, -2, 1],\n",
        "              [2, -2, 1],\n",
        "              [3, -2, -2]])\n",
        "b = np.array([[0],\n",
        "              [1],\n",
        "              [-1]])\n",
        "\n",
        "L, U = lu_factorization(A)\n",
        "y = forward_substitution(L, b)\n",
        "x = backward_substitution(U, y)\n",
        "\n",
        "print(\"Resultados Sistema 1\")\n",
        "print(\"L:\")\n",
        "print(L)\n",
        "print(\"U:\")\n",
        "print(U)\n",
        "print(\"Solução:\")\n",
        "print(x)\n",
        "print(\"\\n\\n\")\n",
        "A = np.array([[5, 2, 1],\n",
        "              [-1, 4, 2],\n",
        "              [2, -3, 10]])\n",
        "b = np.array([[-12],\n",
        "              [20],\n",
        "              [3]])\n",
        "L, U = lu_factorization(A)\n",
        "y = forward_substitution(L, b)\n",
        "x = backward_substitution(U, y)\n",
        "print(\"Resultados Sistema 2\")\n",
        "print(\"L:\")\n",
        "print(L)\n",
        "print(\"U:\")\n",
        "print(U)\n",
        "print(\"Solução:\")\n",
        "print(x)\n",
        "\n",
        "print(\"\\n\\nUtilizando o Método de Fatoração de Cholesky\")\n",
        "print(\"Resultados Sistema 1\")\n",
        "A = np.array([[1, -2, 1],\n",
        "              [2, -2, 1],\n",
        "              [3, -2, -2]])\n",
        "\n",
        "b = np.array([[0],\n",
        "              [1],\n",
        "              [-1]])\n",
        "\n",
        "if not is_definite_positive(A):\n",
        "    print(\"A matriz A não é definida positiva. O método de Cholesky não pode ser aplicado.\")\n",
        "else:\n",
        "    G = cholesky_decomposition(A)\n",
        "    y = np.linalg.solve(G, b)\n",
        "    x = np.linalg.solve(G.T, y)\n",
        "    print(\"Matriz G:\")\n",
        "    print(G)\n",
        "    print(\"\\n\")\n",
        "    print(\"Matriz G.T:\")\n",
        "    print(G.T)\n",
        "    print(\"\\n\")\n",
        "    print(\"Vetor y:\")\n",
        "    print(y)\n",
        "    print(\"\\n\")\n",
        "    print(\"Vetor x:\")\n",
        "    print(x)\n",
        "print(\"\\n\\nResultados Sistema 2\")\n",
        "A = np.array([[5, 2, 1],\n",
        "              [-1, 4, 2],\n",
        "              [2, -3, 10]])\n",
        "\n",
        "b = np.array([[-12],\n",
        "              [20],\n",
        "              [3]])\n",
        "\n",
        "if not is_definite_positive(A):\n",
        "    print(\"A matriz A não é definida positiva. O método de Cholesky não pode ser aplicado.\")\n",
        "else:\n",
        "    G = cholesky_decomposition(A)\n",
        "    y = np.linalg.solve(G, b)\n",
        "    x = np.linalg.solve(G.T, y)\n",
        "    print(\"\\n\\n\\nSolução do sistema:\")\n",
        "    print(\"Matriz G:\")\n",
        "    print(G)\n",
        "    print(\"Matriz G Transposta:\")\n",
        "    print(G.T)\n",
        "    print(\"Vetor Solução:\")\n",
        "    print(x)"
      ],
      "metadata": {
        "colab": {
          "base_uri": "https://localhost:8080/"
        },
        "id": "wTJAPEcANWyV",
        "outputId": "af1ae612-1691-47a1-e147-7067918fed62"
      },
      "execution_count": null,
      "outputs": [
        {
          "output_type": "stream",
          "name": "stdout",
          "text": [
            "Utilizando o Método de Fatoração LU\n",
            "Resultados Sistema 1\n",
            "L:\n",
            "[[1. 0. 0.]\n",
            " [2. 1. 0.]\n",
            " [3. 2. 1.]]\n",
            "U:\n",
            "[[ 1. -2.  1.]\n",
            " [ 0.  2. -1.]\n",
            " [ 0.  0. -3.]]\n",
            "Solução:\n",
            "[[1.]\n",
            " [1.]\n",
            " [1.]]\n",
            "\n",
            "\n",
            "\n",
            "Resultados Sistema 2\n",
            "L:\n",
            "[[ 1.          0.          0.        ]\n",
            " [-0.2         1.          0.        ]\n",
            " [ 0.4        -0.86363636  1.        ]]\n",
            "U:\n",
            "[[ 5.   2.   1. ]\n",
            " [ 0.   4.4  2.2]\n",
            " [ 0.   0.  11.5]]\n",
            "Solução:\n",
            "[[-4.]\n",
            " [ 3.]\n",
            " [ 2.]]\n",
            "\n",
            "\n",
            "Utilizando o Método de Fatoração de Cholesky\n",
            "Resultados Sistema 1\n",
            "A matriz A não é definida positiva. O método de Cholesky não pode ser aplicado.\n",
            "\n",
            "\n",
            "Resultados Sistema 2\n",
            "\n",
            "\n",
            "\n",
            "Solução do sistema:\n",
            "Matriz G:\n",
            "[[ 2.23606798  0.          0.        ]\n",
            " [-0.4472136   1.94935887  0.        ]\n",
            " [ 0.89442719 -1.33377186  2.7241609 ]]\n",
            "Matriz G Transposta:\n",
            "[[ 2.23606798 -0.4472136   0.89442719]\n",
            " [ 0.          1.94935887 -1.33377186]\n",
            " [ 0.          0.          2.7241609 ]]\n",
            "Vetor Solução:\n",
            "[[-2.17730496]\n",
            " [ 6.46099291]\n",
            " [ 2.67375887]]\n"
          ]
        }
      ]
    },
    {
      "cell_type": "markdown",
      "source": [
        "# 2.\n",
        "No dia dos namorados,\tdois rapazes pretendem comprar\tum ramo\tde flores, com rosas e tulipas, para oferecer às respectivas namoradas.\tConsidere\tx1\to\tnúmero de\trosas\te\tx2 o número\tde\ttulipas\tde\tcada\tramo.\n",
        "\n",
        "O\tprimeiro rapaz decidi comprar\to\tramo\t\"Mil\tpétalas\"\tque\tcobra\tpor\tcada\trosa\t2\n",
        "reais\te\tpor\tcada\ttulipa\t2\treais,\tgastando\t10\treais.\n",
        "\n",
        "O\tsegundo\trapaz\tdecide\tcomprar\to\tramo\t\"Tudo\tem\tflor\",\tmas\ta\tflorista\tainda\testá\n",
        "indecisa\tno\tpreço\tque\tirá cobrar\tpor\tcada\trosa\t(considere\tesse\tpreço\tigual\ta\t\"k\")\n",
        "cobrando-lhe\t3\treais\tpor\tcada\ttulipa,\tficando\to\tramo\tpor\t13\treais.\n",
        "\n",
        "a)\tColoque\to\tproblema\tna\tforma\tde\tum\tsistema\tde\tequações\tlineares,\tem\tfunção\n",
        "de\tx1,\tx2\te\tk.\n",
        "\n",
        "b)\t Calcule\t justificando,\t o\t valor\t de\t k, de\t forma\t a\t garantir\t a\t convergência\t do\n",
        "método\t iterativo\t de\t Gauss-Jacobi na\t resolução\t do\t sistema\t (use\t apenas\t as\n",
        "condições\tsuficientes\tde\tconvergência\tbaseadas\tna\tmatriz\tdos\tcoeficientes,\tA)."
      ],
      "metadata": {
        "id": "VCFmUbLsq8je"
      }
    },
    {
      "cell_type": "code",
      "source": [
        "print(\"a) Coloque o problema na forma de um sistema de equações lineares, em função de x1, x2 e k.\\n\")\n",
        "print(\"2x + 2y = 10 => Mil petalas\")\n",
        "print(\"kx + 3y = 13 => Tudo em flor\")\n",
        "print(\"a) Calcule justificando, o valor de k,\\nde forma a garantir a convergência do método iterativo de Gauss-Jacobi\\n\")\n",
        "print(\"K = 2\")\n",
        "k = 2\n",
        "A = np.array([[2, 2],\n",
        "              [k, 3]], dtype=float)\n",
        "b = np.array([10, 13], dtype=float)\n",
        "\n",
        "epsilon = 0.05\n",
        "\n",
        "solution = gauss_jacobi(A, b, epsilon)\n",
        "\n",
        "print(f\"Solução encontrada: {np.round(solution[0], 4)} e {np.round(solution[1], 4)}\")"
      ],
      "metadata": {
        "id": "DzR5Q32orEcz",
        "colab": {
          "base_uri": "https://localhost:8080/"
        },
        "outputId": "07420e8c-51ae-4da4-9b48-55563aa9b150"
      },
      "execution_count": null,
      "outputs": [
        {
          "output_type": "stream",
          "name": "stdout",
          "text": [
            "a) Coloque o problema na forma de um sistema de equações lineares, em função de x1, x2 e k.\n",
            "\n",
            "2x + 2y = 10 => Mil petalas\n",
            "kx + 3y = 13 => Tudo em flor\n",
            "a) Calcule justificando, o valor de k,\n",
            "de forma a garantir a convergência do método iterativo de Gauss-Jacobi\n",
            "\n",
            "K = 2\n",
            "Solução encontrada: 2.0231 e 3.0103\n"
          ]
        }
      ]
    },
    {
      "cell_type": "markdown",
      "source": [
        "# 3. Uma equipe de três paraquedistas ligados por uma corda de peso desprezável é lançada em queda livre a uma velocidade v = 5 m/s\n",
        "\n",
        "Considere\tos\tseguintes\tdados:\n",
        "\n",
        "![Captura de tela 2023-08-04 105507.png](data:image/png;base64,iVBORw0KGgoAAAANSUhEUgAAAfIAAABWCAYAAAA0axScAAAAAXNSR0IArs4c6QAAAARnQU1BAACxjwv8YQUAAAAJcEhZcwAADsMAAA7DAcdvqGQAAC+DSURBVHhe7Z0HXBRX9/d/u8suRUGliWIvKKgg9q5oomjUWBBjfECxBUtsWMhfrI/GxNhijTFRsUSMGLD7iAW7IooVBVGw0QxFEFhkd887WygLy7Io+orc70eS3TuzU+45v3PuvXNnhkccYDAYDAaDUS7hq/7PYDAYDAajHMISOYPBYDAY5Zi8oXUej6coYDAYDAaD8elS+Iq4WiIvvJBRcWH+UHFgtmYwyg+a9MqG1hkMBoPBKMewRM5gMBgMRjmGJfJiyUBidCTC795G1Cupquz/JzJkJkTg9oM4iFUlecheITIsHM/TP4XjLD/IMhMQcfsB4opUaClh9V+GSJD8JAxXLl1FeEK2qqxkMhKjERl+F7ejXuFztIIs6R7OHL+O5xJVwSeHlvikERleRYYh/Hl66ewly0RCxG08eG/RlkD6M9y7/QQpMtV3DcheRSIs/Dk+BdnrmMjf4PpvkzB8yBAMUf25DHfHd7NXwC/08xQOpAkI2ToRPR3bYfKBJM7t5MiQELQaXnO348ZbRcFHQfr8KOb1bQMnz3U4cCUGWbJCxyGLw83ATZj+hT06jduOe5nK3304UnFlvSdc5b7gMgN/PSnqAelnl2OkfLmrJ9ZfSVWVfiJIn+PovL5o4+SJdQeuICZLi1p1Qef6L6CjoaOw4GCMQjuy2BNYOmaoQldDRy3EkWefoqKkSLy6HT5jBsG59xdw6t4T/Yd7YuXpBNXy90eWcgm/uH4Fz/X7sPH7r+D+W6RqSUlIkRCyFRN7OqLd5ANIek9zlhmyBASt9sLc7TfwXuFC+hS7JgzAsJH9MWLFLejevCmJsolnReOTaoFWZIi7GYhN07+Afadx2F5i0JLi+dF56NvGCZ7rDuBKTBbeXP8Nk4bL89FQjFpwEDFKMeHE0jEYqtLYwiPPlD8vFRLcW+uCLlMDkKRl6ogs7iYCN03HF/adMG77PXzwsKsNUlHgo2ayTtGkenpUadA2SkhPobhHl2j7+JZUWb8hjQ2IJ6lqtc+K9F002Eifem9OUJ2fhMKXtScDExf6K0NRoJ3scDr82990Pfk9akfymDb0NqV6HoGUmLeZYo4j7QxNbWJEzb2vkFhV9K6U6A8ZR2istYiEQhG1/e897ogKII2n7V9XJT4EZD32COlSVR8PCT3e0JtM63lQYH6Flg261L9CRwISOa2jF3m7z6KjY2uSqPYg2nQ7XVX28SjR1pRDj7a7UgPztjQtIEphz4yIXfRtfQNyXHBLucp7k03XfmhOVfttpQSuXrJjrtC5B2mqZbqQTrsGG5F+782K338SSMJpWXsDMnH5SycNZIcfpt/+vk7q4UJCjzYPIMdh2+nhYz9yt+9KS0KzVMvel1LGM01ojE+lIY3OTG1CRs296YqWoCV5vIF6m9Yjj8DEArkmi05NqkcCkROtyxcTZR0dSzVFtWnQptucV7wD2Vdojl016vf7S53yWtqZqdTEqDl5azuBMkSTXnVP5Dm3aIGjkCoPLeCU6YE0ykpARl/9QYmqos+KjH3kalIwkZeOnLuLqbVRO1oarpbmSoViGwb1acpZXZwkh24tcCSR9Xg6/p4+VaI/ZF+lOQ5tqH9fa9JvuYDCclTlHJLHa6iXrRM5NdIn2zlXuRD9CZFzlxa3NqD6U86+d2OnKDrUvwYdZT9YT86NnWh5yMdP4nJKsrX06e/0VTUDarPkNneGuUjp2Z4pNGFblOr7eyKNplXd9KkG1/B7tzSVQftcTT6tRF4qcuju4tZk1G4pqYULaTKd3+ZLIao2Tcadv+j3E3HvFI8+BKWLT5rJubWAHEXWNL540SjqxqD+FFLfjVJvwspD8xsi2Q9ovXNjcloe8m5JnCPjpCfVr+5Ke5NUBSWh0LSIrMcf/wAxpSia9Kr77WeS21jYri1WN/BFgv8IGCnKruP/WnbGKotf8Oj0NNThc0VJ93Ay8Agu3nmKFEFt9Bg9GcPtqwDZt/HXiv24ky6AvfsP6Pl6Dzb7XUNiEw+sndIR+pIk3DsZiCMX7+BpigC1e4zG5OH24H6pRJaK+0d24++z9xH/tgqadOuEatGJaDZ9HNpkXYHvhv8hhmqip+c4dLckPD2+ETuuJUPQdAi8v7GHXu5mUu7ioO8+BEckQ1SnC4aP+wZtLHKvMMiQcjcQvvuC8fAVYN5QiuDFf6LSqmc47mmJt2G78dP+u8jQc8CoBd+iuWKjr3H/kC/2nQlHXCYfxpYN0XP0dPQzewi/WS4Y7fsGPSaNQcdqPOg3c8Ec1+ZAcXWkgVd/fIV6U3lY9+IIxpoqy8Qaj0OJONAdtYffx+TQa1jUosCCUlKiP7y9hrltp0AwsT32Tz+LoefC8FN7EbdAgtuLumD8Wze08ZuJ4GHncevn9pAvkVOsfyjQXJf9Gwm0LyvJdwry6g98VW8qeOte4Eh+hWL3T/txN0MIh9E/oEfyLmz++xbEdZ3x3ZQBaJAZBr/fduNSvDE6jJqGka2rFXtNqsT6L6Qjg4TjmD5wEXiLDmNNX8sC25Ug7spe7Docipg0PVQzq6z0YUEd9J7igc6mOl4V0wHttpYiakV3NPcBlj48h1kN5LbQjCz1Hg7v3IczD+TisYXT8FEY2Lxq/jnJUnD3IGfD4Agki+qgy/Bx+KaNBbdchtcPf8foblNwtt5/8H3fBqjXewo8OptqvfYn13KgXMtKsUIavBh/VlqFZ8c9Yan4oVzPBxV6jkgWoU6X4Rj3TRvkyT2XkmJTCdt5ff8Qt+wMwuMywTe2RMOeo+HVvxbCdv+E/XczoOcwCgu+ba603+v7OMQd85nwOGTyjWHZsCdGT+8Hs4d+mOUyGr5vemDSmI6oxtNHM5c5cOXEXVzMyosDQgeMntsDyXu3wP9GGqr3HIupLs1RWXF0StIjjmHXX0G4G5sFkUV9tOrvjmGGp7FCQxzRrlF1NMWnXDTt061TjaI2FQfCvfZw3J8cimuLWuTF6nxe4Y+v6mEqbx1eHBmL/N1wsWZhO7Rd3QC+Cf4YYZCA49MHYhFvEQ6v6avyASWSuCvYu+swQmPSoFfNDJWVYkIdzs/Gcn6WTyr8R9phpuFWhHPnlluHmm3cSLVUjED32hh+fzJCry3Ce4RdndCoV65AQYGPmtHQk5DG/kH9qwipyaxLil6XOHgu2Zvbktvv5+jOrZP0U18rEtb1pCBFE1tKySc8qZGwJjmPn0juk2bR6PamZDhgO6WJg2muvTnZuv1O5+7copM/9SUrYV3yVP6Q++lL8h/bhKw6zaGD4fGU8CCAprWuRDz9vrQ1Wb6ChJ5t6UdVhK1p0R1Vn+HNFW6bQjIYtKvA8f5DY20bUL8VwRST8Ij8x9tS1ZbedOGNYinFH5xIzWp1o3lHHlJC4iM6OrcjmfBF+T1yrnV8wrMRCS3cKVBxaNkUsrgdWXXwplMxKZR0bzeNsqlKQ/ZkUNbDIPKd9yWZCxvTN7/40s6du2jvuWjK0FpHhcmhsPkOJKoxlo4UXF7kOPLJCfmBmgmtaMxhjRvUmRL9Qd4jt3ekeVcv0hxbfWo8/ZyyNSo+TzMcetLq8OP0XW2RWo9cu38UX5dal5XkO4XICZtPDqIaNFa9QlW+WZ16fOtBo7xW0NoFg6mRvj618PChqaO+px/X/0xjW1clPesxdEjLiG+J9V9AR2mxJ8m7mwO57ogq0NOVI6XEg+OokVlnmn8ujtJjg2l+JxMS2Y6m9fuCKLyMO+7abZ1Ofw01IUHNsXRUS3dDGhdI39nVoh4LgujJvy/pyvrBVNukBU0/kaTSTiz9M9aWGvRbQcExCfTIfzzZVm1J3grxZdHDk2voWxshmfb6gbbv3E3H72s/SWn8QZrYrBZ1m3eEHiYk0qOjc6mjCZ9EeT1yKcX+M5ZsG/SjFcExlPDIn8bbVqWW3hdIIXc1tMSmEraTHbKY2ll1IO9TMZSSdI92j7KhqkP2KLeafII8GwnJwj1QOcqQHUKL21lRB+9TFJOSRPd2jyKbqkNoTwZ3/kG+NO9LcxI2/oZ+8d1JO3ftpXPREu0xKzcOVHeikWNG06xf1tF/RzSjSkIbmnE+11icLx2bSg61e9CCoGhKenqMptobkvW4YyTWEEe0a7QwxcQnbftUraFGTgj90ExIVmMOax6NyQmj+Q4iDaM1BXrkabF00rsbObjuoCh1MZE08SCNa2RGneefo7j0WAqe34lMRLY0ev0+CiokJmncNhpoakPT8+pPu42V5FDID81IaDWG3jPs6oQmvZY6kRs6LaKTZ07Sod0r6buO1cmsjRcdi1cO9EgeHaet+0IoSTXuk3XIg6rrd6DlD5VjRdKY1dRNJCRHn1CFQaUJt+ls6EuSSB7R8a37KCT/h+RRXZ86LH+ouPaafX46NRbZ0MwL+c4Zt/ELEuUlcs4BT35HtfULJHJKoT+/0i+QyLPp4kwbMmizhO6phq4k4UupnciS3AO5NbIv0AwbfWo6+3Je4qGEzdRbVCCRc/+NWd2N9HMdXz4c2FWfzF32qK4PSSk14jLdilWuLQ7y5I5JfWi9pDpSR0ynJ9cjkc0MuqA2Pl3oOAogiVhOHYSGNHhXbvPl3dApkbewp7nXMihsQUvSrzeRTnHHknZoDNkN2kZxGcdonLVQLZFrPXdtdaltWQm+Uxjx6clUj/OlGeoVqvJNEbVdckd5vNIXtL6nPgnqjKXDKYpVKCPQnSyFLWjedaWPZfm7k427v1pwKbH+VToS1mlPPWxMiG/gQHMvFE5aqbRzUGXS/2IjxalOK3FLH9LX/4I2qnyrLNFqa64efnUSkV4RHyyImM5Na6Tw07z4J4miFZ1FZNh9FT3mDJF9cSbZGLShJfnio6XtRGTJJTnl94e0vIO+jsOT2XRhhg3pN51Nl/OOKYE29xblJ/LsizTTRn45IHf+hoTCl7YjkSWnGQ2mKTY2ad2OlKJXdSV9cxfao7pALE2NoMu3YhWfuY3S6m76eYlcGr2Kuuqbk8se1XVeaSpFXL5FSpOKKcizNumrDa2XELNUcUAkaktL7qgqInUPDakionZLw5XHy+l0rp0B2cw4r6pXKf17M5D+vvSCW140jpRJfNK2zyx/crdxJ3910XC253LL4PxOlxri0zS5nojb3oX82KxAlciFdah9Dxuu02VADnMvFBlST905iCrLtZMvJurDNdK/2BirtEMeEnqy1omqOBa8VFiCjRVIKGJ5BxIaDqb3DLs6oUmvRUY5SkKaFIGL56/gXmIldPH5H8IvrUTf6srNCBo5Y5xrW5jyZchMfIKI5ByI8BbibPm+OXg87l8VNG/dDPrcV76lPXq0rgmBoBGcx7mirSkfssxEPIlIRo4IeCvOBsmH9s5fQoyoGVq1lP9KDh8mVU3Uh2C4basj35fqoxxpFM5eiAZl3cKOed7w9vbGvD+vI5VSEPngObc4GBeihbBr2SJvGBiVq6GKvvp25cMaefBroffgTqDAieg6xBvbL8fD0KYjHGoUX60l1lEhsrNzQHoiCFXfc1E7jgLwRCKIeDLudx9jWr0MMpkeWnwzDC3jD2HvqacI9L2Ktu5DYMXnGomFZq9qPXdtdaltmVbf0UB2NnJID6KiFcr9qwJb+8ZK+/PNYFXdEHr1m6OFiWIN6FlZwYyfjUyx8sQMvt6M0M1fw0DxTYmu9a/fdhqOhByGV5NIrPVcgODXqgUKFA1skCQnb7Yzn8cHjy+EUFBqyb4nQog4oZE4C2LNLspp6zHOX3oKgW1L5ElUUAttW9WC5M4NhOVwGj57AdGUhVs75im05z3vT1xPJaREPlD9oBRwWg7mtCy0a4kW+WJFtSr6nOqVSKPOcnomZN3agXny/XnPw5/XU0EpkXjwXMNdASr7F45N3IFr2Q6hVu/B6ESBmNh1CLy3X0a8oQ06OtRQbrNQDOLX6o3BnQiBE7tiiPd2XI43hE1HBxQbLkqIWXLkcYBXxRb2jVUVYVAT1mY8ZIvFCv+XPj6Fs4/4sGvlqDgv7ihg5vg1hnWyhvwiSeE4UhbxSes+Db7G5tDN+FpdNBCJeJBx2tSsmmxk5xD0iohWhX5bTDsSgsNeTRC51hML1MWk1BJJkJMvJoWehEKB+jC/5AF2774J+29HFhge55dgYzk87vhF4Mm44/wYYVcDpY4KosYDMHfhAvwwwxP/6ecAyzwhcYgj8c+CEXDu7YKJi7fA//IzDeIvlGAViBH5zwKMcO4Nl4mLscX/Mp7l/VCKtLQ3XBTljF3oaDWnsmKQpiOd24xJky/hOmIERsj/3Bbj7+uh2DG6LqRp6cjgmgZCYcGdaDrWguih+YwjuHbQB11S/fB9t6Zw+HYr7mq7xVGnOspF7oDKpKHzucqFrfhQ7EbLHIHNN3Btn4LDv36P3yN7YXRfzdfTtJ+7trrUtkyb7xRFLmpFjepQoUKhMnDkrsrnxJoXSmRxODXHCY5Tj6vfN1uK+udV6YaFm6bB9slGePoEIUVVznkp+ri5oObNHVh56CFiHwdhjW8IrFw80N9ctcrHgm+CmtZVgeQ4vCzu/hq5tjI4PxCKFMlBiQCVjStxMViMbJkU6Urx4UtXlfZGuGHx39cRumO0av1SIE1T7E+Ps4+aWguIVZqejjdcPTb50lW1vxFwW/w3rofuwOi6xV3nL6r3kraj13wGjlw7CJ8uqfD7vhuaOnyLrcUFAL3mmHHkGg76dEGq3/fo1tQB3269W/x91yXELI3w9KAnb3ipvkrTuLriUrGBgY6hvgziU/H7lCHu1Bw4OU7FcXXR5NW7xl3JE3FJouUaYd0WbsI02yfY6OmDoHwxwaSPG1xq3sSOlYfwMPYxgtb4IsTKBR6FxPQ2dCf2RnXCf0Y0KuDHcrOVbOM83ytZ9h8EHa2rC29xZdEQuB9phKWH/oHvxp/hM8IBxlrqPpe3VxZhiPsRNFp6CP/4bsTPPiPgkPdDASzMqgGZcXieqHQaOVkZWVB7NgJffrOTGOK8mxjf4m3B1pGeFawseXiTwUOdFg5wcMj9s0cTKwMILMxhikzEPU9UBno5bzOQmaP6XCxGaNhvNv4IjsAdPxfI/Gdh4f5k1TJ5UOd6VVxrUklp60je0hOCx/XMSjwMFfJeXA4pW4gfDUE9DHPtjIzTJ5A+yANdCra289Dl3LXVpeZl2n2nKPIes5DHtc51rdDi4NdAl262EEryfVJOaeu/UicfbJxmh6dbJsH7aO7zCrgeTCtn9O7VHKKL6/HftadQecIhXN42rPje2wdDhHad28JIfBOXrnLZswCvL/+JjafiFNqqwWkrO/4lEvI6u1IkJiQBteqjHpdZrKwswXuTAV6dFgW05wD7Jlaq9UuBwALmpvKQ8Bz5IeEtMgqIVT56Ysl7gwxeHbQosD8H+ybg5K4zumzHqGE/zP4jGBF3/OAi88eshfuVCzRh1BD9Zv+B4Ig78HORwX/WQuSHC85vuW5jXrgoIWbpgvz4LXhcXHvxb35cK5ayiU/F75OPGl26wVYoUS+X95a5k1aMZqmK1JD32IU8SEoSbaVO8Nk4DXZPt2CS99G85wnwzVpxDZNeaC66iPX/XYtTlSfg0OVtGKYmpgyc3bEfSV+6Yah1UZFptzEpjo0UIwuqoo9MKcIC52BcPUqyMot5IEE2HkVEQ1rVXNlLl77Esb2nECfL4U5SuQZxG5CQPLGpmzf7UQSipVVhrvwhXh7bi1NxMuQofiifhdwNNnQdfttCudYx1657dR6b9t5QS+R61a1gTtG4cvEZVy5F/OkN2HdHpgys8hX4teDcry34F37HynOqh9iInyBw/lxsj5JCUNcJPWwJ1/22IVSxkyRcWP8XbnAr5uTk7okUn+Xnodhm9mnMdhoHvwT5+eijgXNftDLmg6ca/hSYW8BUFoOb1xM4x83A0+hniCihjtThwdikMudjXMtcraVX6DgKQFxXJRPGMDEpfnZx2cDtW75/ZeXC2mU8RvcYiamjc+8Q4JZx1SZVrsBRgn9oq0sty7T7TlF4xiaozNkiXb1C83wz73A5i+W85cQplXDlqhLFsDz3PbeAC3CFY1zJ9a/UkZTbrlIFldDJZyPXk3iObVNmIoA7dnBeftBnBm40m4bFKzZi8/qf4e3eCTXUriV9LPiwGjYN7g0S4L9yC+7liv/tA2z9v1nYdiFRoa2+AzvC4BbXmOK0pOD1WRw6+xrNh3+DNiI+ajn3Q1v+Bfy+8hyUD0oU40ngfMzdHqVYPTeYy31KUbuScKwb0hKO7jvwXFlR+QjqwqmHLei6H7YpxYqkC+vxl1KsirjAr+WMfm35uPD7SpxTPZlR/CQQ8+duR+4hFqS42KR9O9k4PdsJ4/zk+uY8s4Ez+rYyBp+nsr3cnzhfkZ+TnOzTs+E0zg9KN24A576tYMznQRkuBDC3MIUs5iauy1fIeIroxBpaYxa3A27bheIAyTswBCnn//LdyIfznVsLELJrIy4pHlPGxcbgVfjvX0+4T4V/X3IMV0dzfNK+T42i4Rph4LZlotYTzoPH6Umxm3SlbxTgrbxupVLktqeVDWNbPN82BTMD4hR18OagD2bcaIZpi1dg4+b1+NnbHZ0Kiyn1OHYekqC/+wCYqYqUlGBjBYR05Qngg4fd4pBfKJdT4KMG0ilkw2BqKOIR38SB3P8M0zApQUrxh6aQfRUjqmHXnrp/NY7W+C2gziIRNR7yG91Mi6YDE+ypEk9Alt3m0KHo/MkT0vhDNMW+ChnVsKP23b+icWv8aEFnEYkaD6HfbnJ7kiZS0LxuZCUyIIuG9tRxsA8dWDOYKhWY7CZ/MMGOEQ3JUFiVarfoQt8sPUKbXauSoGpb8vR7qFwn6x796dGaLAyNqUYjG2pg04Hc1l8l5VwmKSWdXUBONfXJ0KIhOXQdSj77N9G3ZgIydnCnHXe5EP7Yn8bbVyKewIqcFp+hhMyzNNu+Glk6DKaJXjNozJcO5OiynuSHrEASTpv6W5NI34waOnSnURtD6LG2OipSqVJ6sc6J9I0G0g7VhCs5RY6jwIwN+aS/WqIWNC+00NTNUqLdH1Lp8ur+VFcopLpfrabLBY5NgTSOghb2pBoCHgnr9qc1l1Plhdr9I1lLXYqLX1ai7xRC+mIdOekb0UC1Cs33zeo9FtCpeAn9G7yYeljyiVfZgcb6RZAk+w5tHdyAhDwh1Ruwjq6lc+4UMIqajlLNSFahvf4L6KhaB5oeGK2ckJR1k35xMiM++FTFfiRtvp5MVxe1pSp8HmdjAQkEeqQnrESWTZ3J53jZ30Os3dZKsu7voknd6lNte2f61sOdvm5dk4xNG9GQzY+UK2RH0F+TOlOjZn1o/MypNNKpNfWYuJPC8yoni+796UGtLQzJuEYjsmlgQx3c1tNVhRly6N72b6ipIY8EVk7cOT7j2t/XaV4LIQm7/KKYLFcYadJZWuBUk/QNLThtdaWhPvtp07dmJDDm4tOOu4p1su79SR6tLcjQuAY1smlANh3caL1yh+oUsH/h2CSn+O2I6exse6pm6UCDJ3rRjDFfkoOjC61X+J2EHvuPJ/tKynNafCaBc+PZZF/NkhwGTySvGWPoSwdHcll/My+WSsI3UX9rEembcfGn+yjaGCp3suJjVtE48Iaur/uK6ujxSL/xUNpySznVLCNsE31jV5UMqtYmm8aNqOXXi+lkrETD70vQaBE5aY5PcorbJycaGtV0lPokXfFJ+q6WiFrMC+U8QQPSF7TOSZ+MBu5QxWol6SEbaHBDEfH41ajD9EBSmi2Lbv7iRGZ8EL+KPY3cfJ2yry6itlU4LXP2FXB60tMTUiXLpuTsc1w1mVRKcX8OIFOb6XSuyExLbTbORUwnv6tFohbz6D3Drk5o0quOiVx3pG8S6OmLJNVsxVLAOWHC0xeUpOWH2Skv6cW/WYpAlrFniHoiV5BDaXHPKD5dKcSslARKTEkncaFAIEmPp5jol5SqaRZudirFvviXshQGzqKUhERKSRcrA65GpCROjaenT6IpVuMGxZT8MpZSCxi4NHWkmO2rYZa1ZqT0dK0TGVi4UUDRe2xKRVn5Q2G0n7u2utSyTAffyUMxC1nTDNhSIk2mC3NakXHrOXQhd4pvWdU/1yjd7dGGeswKoNBbNyk09DpdO7eP5natSqL2y+hB8c74Tuhua84GnAafRD2mp/FpGutPmpFIT2NeUrK4mOaGJJ3iY6LppUatlJZsSo19Qf8qxVqM3iWUHh9D0S9T38/eWrYjFadS/NMnFB2rwz6kYkqNf0pPormYoGllcTK95LZTOB9ojVk6wcWhFzH0LKlgBtVM2cWnwvuUUvKFOdTKuDXNuaC6LVFe+nQtORlYkFuxolHO3i96944ucA2q3R7UpscsCgi9RTdDQ+n6tXO0b25XqipqT8vkYpI8oTVOVajl/JuaGxIcWm0sfUprnbhOpluAhlsby56Pksg/Fhl7BpORfh/a8q+q4HMlm+uZ2BuSzfdnSn5SkSSKc0gTqjfheMnrlkB58wfdyabr8+zJ0OZ7OvO+lVSYMqr/nNsLyNGoI/0UUTAj5dCdha2oUqefSa24DPh8bc344JQmPmlEQlFrnMik3gQ6rmUD2dfnkb2hDX1fWtHm3KYFjkbU8acItc5Yzp2F1KpSJ/qZE5P86XRtTLrQincUliRqDTmZ1KMJ2k6gDPl8Erk4lk5MaUZCvUY0NuCFqvDzJfXycupTvzH1mbWB/M4pn3WthuQFhQRsp2VuralRF286obqv/334rIN76mVa3qc+Ne4zizb4naOoIhVaSsq6/tNOk1cLM2rm9isdunSb7t+7Tqd2/kC9bduR17F3e1ywNlgiZ7wPJcYnjUjoRUgAbV/mRq0bdSHvE/El+HUqXV7eh+o37kOzNvjROZ1Fm0anvVqQWTM3+vXQJbp9/x5dP7WTfuhtS+28jlGCNJsuz7alqs6/FXj3gW5IXoRQwPZl5Na6EXXxPkFlEHZ1QpNe1R7RymAwGAwG49NGlbbz0P1Z64wKBfOHigOzNYNRftCk11LcfsZgMBgMBuNTgyVyBoPBYDDKMSyRMxgMBoNRjnmHa+RiPDm6EouOWmPxeg/U///1JBvGB6Ukf3j9v8UYv+W2+mNyFRigw4xtmNNV9QjJzEgErPwZu0MTkcU3R4dRP2DWYBvl++wZnwRlpf3MyACs/Hk3QhOzwDfvgFE/zMJgG2ZpBqMsee9r5JlRh7B4iANaDpwPv9uqRwYyKiBS/HsnCEevxEDME0AgUP7xMyIRfD4TlrlvYpLFYb+nM7zCnbDS/yB2TTNFgHsfTAko8Dx7RrmgJO3L4vbD09kL4U4r4X9wF6aZBsC9zxQEFHg/AoPB+DDonMil0dswzfsiGngfwLJeXG+Lz2fj8hUWQhavFsb+fhbHDuzH/v3yv73w6WgEi2GTMcxK6RmSsE1Y5m8I15muqC/iw6y7FyZ0SsTe1b54wlqB5YaStS9B2KZl8Dd0xUzX+hDxzdDdawI6Je7Fal/587UZDMaHROdcLKg/Blv9V8CtXQOYGQuKPPeeUZHQQ/NZflg3oMDrSlMOY81OYOREJ1RSFEjx+GQQHgjt4GCn6qHzzdG6VX1Iwy7iYpqyiPHpU6L2pY9xMugBhHYOyDd1a7SqL0XYxYtgpmYwPiysU80oA6SI2PYrTjf/DuOa575VKAeRkTGgquawyHuJtx5qWVcH7+1LPHtZ9Oo6o5ySE4nIGEJVc4v897Xr1YJ1dR7evnwGZmoG48PCEjnj/ckIxrotz9Bv4nDUzPMoGdLT3oCEIojyunB8GBkZgkdiZGWqihjlH1k60t4QhCJRfm+dbwQjQx5InAVmagbjw8ISOeM9keHZntXYb+KGSV9WVpUpEegJIH+RcU6BCZaK2ZY8fRgYqgoYnwECKE2tepe4Avl7HOSmNgAzNYPxYWGJnPF+ZIdg0/praDNhHOzV3tUvgKWFGfA6Bcl5s52kSE1NB+lZoZZ1oRf7M8ovAksoTZ2cP7FNmorUdIKeVS0wUzMYHxaWyBnvgQyJ/6yG7+uvMWl47ULOJEQzRzsYZEQhIiY3vEsQ9SgaPLt2aGeiKmKUf4TN4GhngIyoCOSbOgqPonmwa9cOzNQMxoel9IlclobXaRJQ2mukqN+TzqhoSMKxde0JVB81Cb0LTGBXwof5gJHoZ3ofB/3v4a28KD0YB05lopuHG+xYL638UZz2+eYYMLIfTO8fhP89haU5Ux/Aqcxu8HCzAzM1g/Fh0f3JbtIYHFi0CHsvh+DMuYeckI3RqEsvdGzZH16rxsCBqfWzQpenfWUHecLGNRret45jYl1NbUIZ4o7Nw8hpAaD2XVD9eRgSW8/H9l8GoS57IuAnQ5loXxaHY/NGYloAoX2X6ngelojW87fjl0F1wUzNYJQdmvTKXmPK0IhO/iDJwGuxHowr62sf2pFmIDE2CTC1hmUlFtY/NcpS+9KMRChNbQlmagaj7GGJnKEzzB8qDszWDEb5QZNe2WQ3BoPBYDDKMSyRMxgMBoNRjlEbWmcwGAwGg/FpU3honV0jZ2iE+UPFgdmawSg/sGvkDAaDwWB8ZrBEzmAwGAxGOUb3RJ4di2t+KzFr9GA49+yOrr2GwHPFCTxVPsiJUYGRJd3GgZUz8J8B/TE78BVkqnIFmZEIWDIWQwcOQL9BHlgSEMnehlVuEePJ0aVwn7Qd0XkPVS+KLPYfzBowBD9eZMGBwfgY6JjIpXi8zhXdvvMHf/ivOHjmOHaMN8EZn8EYsuwG2OuGKypSxB77AT3bjYBvsj1GL9sAb2ezfKeSxWG/pzO8wp2w0v8gdk0zRYB7H0wJSFRP9oxPnsyoQ1g8xAEtB86H3+1X+S9HKYwsFn97TcXaY+cQ/opZmcH4GOiYyHkwbvk1pq3cgCV960AfRmjoMhkuTaS4d+EyEpheKySpZ+ai338Oo/mGYAT+6IEv7OvBzCDfpSRhm7DM3xCuM11RX8SHWXcvTOiUiL2rffFES4+O8Wkhjd6Gad4X0cD7AJb1MuCiBr+YwCFD3P45WPmmDdoIVUUMBuODo2Mi58Pyy9lYMb4NOBkrkeXgbQ5gZG4BEx23wviMyL6Kn6ZtQuZ/1uPnvpYaHEmKxyeD8EBoBwc7kbKIb47WrepDGnYRF9OURYxPH0H9MdjqvwJu7RrAzFjANes1I4vzx+zlaRi/oDeqsLtZGYyPxjun4NSzOxH4vDE8JvWHsaqMUXHICNqKXZE2+MbdDtHHfLFhza/4/Z8QxOVdFs1BZGQMqKo5LPJ6Z3qoZV0dvLcv8ewluyDzWSGLx4E5S5AwegU8askgYXezMRgfjXdK5LKEQ5g1NRB1Fu7G0h6VVaWMisNb3Dl3Ca946Ti73Au/XXuFnIxw7JrcFY4D1+O+IkfLkJ72BiQUQZTXO+PDyMgQPBIji814+4yQIf7AbCyIGYlVk5pCT0ZgeZzB+HiUPpFn3MDKEd8jrN8O+M1yhJGqmFGRkODF8wTITDtj5p+7sWHxLMzw2YzANYMgO70C605nK9YS6Am4VXOQUyCqKx5kwNOHgaGqgFHukSUEYI7PQ7ismgF71VUUBbLXuLBoFJZcZrPXGYwPSekSufQp/prwLbbX+QUBK51h+c4D84zyDR98AQ/8qjVQI68lx0e1Du3RlJeIx1HJ3HcBLC3MgNcpSM6b2CZFamo6SM8KtazZC+w/D2RIOn8W0dX0cGZGL3Tu3BldB69DWE46gnwGYvZJMaqxSTQMxgelFArLxu1VozAvbiz2/uaKOvJ3DXMt7ofX7oLdZVLR0EPDRnXBS36lZnvKyuK8RB8mVeTZXYhmjnYwyIhCRExuJpcg6lE0eHbt0M5EVcQo5/BhMWwDLly9gkuXLin+LgRMhaPQGF/+eA5XL+/D981Zo43B+JDonMilDzZg2opX6PVtM8SdPY7jx48hYMtMjPjOF4/YvKUKhh6aDx2KlhlnEBgk733LeYuHB48j3MwZLl/Ipz/yYT5gJPqZ3sdB/3vcUo70YBw4lYluHm6wY7G9/CFLw+s0CSjtNVK0XQTPyYGUpJDksBY+g/Ex0PGlKdk4MaEh+m99WeRBEMLWi3Dj6kK0YIH5s6LkF2mI8WDXNIxbfgNmHduhetpdXIuuAbfVG+HVzULVQpQh7tg8jJwWAGrfBdWfhyGx9Xxs/2UQ6spHdBifBCXaWhqDA4sWYe/lEJw595BL4sZo1KUXOrbsD69VY+BQUPuSh9gzfjg8fe/BsPNs7PD7Ef2s2dA6g1FWaNIre/sZQyM6+4MsE69eJCDTwBK1LCtBY36WZiAxNgkwtYZlJZbBPzWY9hmM8gNL5AydYf5QcWC2ZjDKD5r0ysa8GAwGg8Eox7BEzmAwGAxGOUZtaJ3BYDAYDManTeGhdXaNnKER5g8VB2ZrBqP8wK6RMxgMBoPxmcESOYPBYDAY5RiWyBkMBoPBKMfofo08OxbXAv+Cf1Aool4kIoUs4DhgEmZP7I6a7Bkfnx2lum4qi8U/c77DbtO58Pu/Lij4AixkRiJg5c/YHZqILL45Ooz6AbMG27C35n1C6G5rMZ4cXYlFR62xeL0H6ufp/jX+t3g8ttzW8Kxmgw6YsW0OuhqovjMYjPfiPa6RS/F4nSu6Tz6Oqh7r4H/iGLaNN8Zxr68w5KfbYI9ar8jIEPu3F6auPYZz4a+4bwWQxWG/pzO8wp2w0v8gdk0zRYB7H0wJSFRfj/HJkxl1CIuHOKDlwPnwu/1K/VHN0n9xJ+gorsSIwRMIIFD88ZERGYzzmZZorNayYzAYZY2OiZwHE8chmLV6DWZ3toQABmgwcDy+bpiNW1du4I1qLUbFQxa3H3NWvkGbNkJVST6SsE1Y5m8I15muqC/iw6y7FyZ0SsTe1b54Uvih/YxPFmn0NkzzvogG3gewrBfXtebz1QMHZYFXayx+P3sMB/bvx375314fdDSywLDJw2DFLuAxGB8UHSXGh8UXM7HU3T5/2DTjKZ4lCdCkZQtUVhUxKhhcj9t/9nKkjV+A3lUKP4dAiscng/BAaAcHO5XX8M3RulV9SMMu4mKasojx6SOoPwZb/VfArV0DmBkLuGZ9IfSaY5bfOgyoovrOkXJ4DXZiJCY6VVKVMBiMD8U7tZUzY05hhcci3Oq8An/MbQv24rOKiAzxB+ZgScJozhdqQSYpfI01B5GRMaCq5rDI66zroZZ1dfDevsSzl+yCzGeLNALbfj2N5t+NA3sVOYPx4SldIs/8H37oZosGts5YEtEc7mOcYSd/9TSjwiGLP4DZC2IwctUkNNWToehcKRnS096AhCKI8rpwfBgZGYJHYmRlqooYnx0Zweuw5Vk/TBxe8916CgwGo1SUTmdGfbD8/APEJj3GoTFibB7SGYPXP2CT3SoasgQEzPHBQ5dVmGFfcCaTDK8vLMKoJZcV3wR6AkCSg5wCSV4x25KnDwNDVQHj80L2DHtW74eJ2yR8ya65MRgfhXdqMPON6qKn10bM7voGwb/54sZb1QJGhUCWdB5no6tB78wM9OrcGZ27Dsa6sBykB/lg4OyTEFcz4dYSwNLCDHidguS8iW1SpKamg/SsUMuajbl+jmSHbML6a20wYZw9u+TGYHwkdE7kb9NfITmzwE1DfDPUsDQAct4iR1XEqBjwLYZhw4WruHLpEi7J/y4EYKqjEMZf/ohzVy9j3/fNubWEaOZoB4OMKETE5GZyCaIeRYNn1w7t5Lme8XkhS8Q/q33x+utJGF6bDaozGB8LHdWWjcvzOsF2xA48z83l6Vdx7kYW6jkPgCO7T7SCk4McKUEqySlwfzgf5gNGop/pfRz0vwfFoE16MA6cykQ3DzfYse5a+UOWhtdpElDaa6QUmRPBNdPCt2LtieoYNak3CkxgZzAYHxgdn+wmQfjv7hi55DQybb6AU1N9xIZeR7L9VGxYOx4t2bWwzw7dn/YlwcM94zHc0xf3DDtj9g4//NjPWtVClCHu2DyMnBYAat8F1Z+HIbH1fGz/ZRDqsqcBfjKUaGtpDA4sWoS9l0Nw5txDLokbo1GXXujYsj+8Vo2Bg6JRlo0gTxu4Rnvj1vGJqMs65AzGB0GTXkv5GlMpMl69REI6D1WtrWGqz9T6uaJ7ItcBaQYSY5MAU2tYVmIZ/FOjrGwtyXgNsZ4xKrO4wGB8MMogkTMqCswfKg7M1gxG+UGTXlnTmcFgMBiMcoxaj5zBYDAYDManTeEeeV4iZzAYDAaDUf5gQ+sMBoPBYJRjWCJnMBgMBqMcwxI5g8FgMBjlGJbIGQwGg8EotwD/D7xRcJ6nOKhpAAAAAElFTkSuQmCC)\n",
        "\n",
        "O sistema linear resultante permite calcular a tensão\tem cada secção da corda (R e T) e a aceleração da equipe (a).\n",
        "\n",
        "\\begin{align*}\n",
        "m_1.g - c_1.v - T &= m_1.a \\\\\n",
        "m_2.g - c_2.v + T - R &= m_2.a \\\\\n",
        "m_2.g - c_3.v     + R  &= m_3.a\n",
        "\\end{align*}\n",
        "(considere g = 9.8 m/s2).    \n",
        "\n",
        "O que poderia dizer acerca da convergência do método iterativo de Gauss-Seidel quando aplicado ao sistema? Justifique.\n"
      ],
      "metadata": {
        "id": "jrBf3xPlxQEe"
      }
    },
    {
      "cell_type": "code",
      "source": [
        "A = [[-70, -1, 0], [-1, -60, 1], [1, -40, 0]]\n",
        "b = [-636, -518, -307]\n",
        "\n",
        "n = len(b)\n",
        "Toler = 0.05\n",
        "IterMax = 100\n",
        "\n",
        "solution, iterations, info = gauss_seidel(n, A, b, Toler, IterMax)\n",
        "\n",
        "if info == 0:\n",
        "    print(\"Solução:\")\n",
        "    for i, x_i in enumerate(solution):\n",
        "        print(f\"x{i + 1} = {x_i}\")\n",
        "\n",
        "    print(f\"Interações: {iterations}\")\n",
        "else:\n",
        "    print(\"Matriz não é diagonal dominante. O método de seidel não pode ser aplicado.\")\n"
      ],
      "metadata": {
        "colab": {
          "base_uri": "https://localhost:8080/"
        },
        "id": "jVAea5b53S4A",
        "outputId": "20dca582-d221-407a-80a0-6ad2dd717dac"
      },
      "execution_count": null,
      "outputs": [
        {
          "output_type": "stream",
          "name": "stdout",
          "text": [
            "Matriz não é diagonal dominante. O método de seidel não pode ser aplicado.\n"
          ]
        }
      ]
    },
    {
      "cell_type": "markdown",
      "source": [
        "# Conclusões\n",
        "As condições de convergência para o método de Gauss-Seidel não foram atendidadas pela matriz. Para ocorrer a convergência era necessário que a matriz fosse diagonalmente dominante.\n",
        "\n",
        "A matriz é diagonalmente dominante quando atende ao menos o critério das linhas ou o das colunas sendo o das linhas obtido através da máximo valor da soma de todos os valores em módulo de cada linha, e o das colunas a mesma coisa só que para as colunas."
      ],
      "metadata": {
        "id": "IGlB0QmytTHS"
      }
    },
    {
      "cell_type": "markdown",
      "source": [
        "# 4.  Resolva o seguinte sistema de equações :\n",
        "\n",
        "\\begin{align*}\n",
        "1,05x_1 + 2,05x_2 &= 5,15 \\\\\n",
        "1,1x_1 + 2,0x_2 &= 5,1\n",
        "\\end{align*}\n",
        "---\n",
        "a)Graficamente.\n",
        "\n",
        "b)Por Eliminação de Gauss com Pivotamento Parcial, de modo exato.\n",
        "\n",
        "c)Por Eliminação de Gauss com Pivotamento Parcial, mas com 3 algarismos\n",
        "significativos. Utilize aritmética de arredondamento.\n",
        "\n",
        "d)Justifique os resultados obtidos."
      ],
      "metadata": {
        "id": "oEwEuJBYKPKL"
      }
    },
    {
      "cell_type": "code",
      "source": [
        "print(\"\\na) Gráficamente: \")\n",
        "Graf()\n",
        "print(\"\\nb) Por Eliminação de Gauss com Pivotamento Parcial, de modo exato. \")\n",
        "\n",
        "A = np.array([[1.05, 2.05],\n",
        "              [1.1, 2.0]], dtype=float)\n",
        "b = np.array([5.15, 5.1], dtype=float)\n",
        "\n",
        "x = gauss_elimination_with_partial_pivoting(A, b)\n",
        "x = [np.round(xi, 20) for xi in x]\n",
        "print(\"b) Solução do sistema de modo exato: \", x)\n",
        "x = [np.round(xi, 3) for xi in x]\n",
        "print(\"c) Solução do sistema com 3 algarismos: \", x)"
      ],
      "metadata": {
        "colab": {
          "base_uri": "https://localhost:8080/",
          "height": 669
        },
        "id": "-IqkXBkySuFS",
        "outputId": "139c8b2c-8e37-4f6a-edb9-fe75ee370590"
      },
      "execution_count": null,
      "outputs": [
        {
          "output_type": "stream",
          "name": "stdout",
          "text": [
            "\n",
            "a) Gráficamente: \n"
          ]
        },
        {
          "output_type": "display_data",
          "data": {
            "text/plain": [
              "<Figure size 800x600 with 1 Axes>"
            ],
            "image/png": "[encoded data removed]"
          },
          "metadata": {}
        },
        {
          "output_type": "stream",
          "name": "stdout",
          "text": [
            "\n",
            "b) Por Eliminação de Gauss com Pivotamento Parcial, de modo exato. \n",
            "b) Solução do sistema de modo exato:  [0.9999999999999827, 2.0000000000000093]\n",
            "c) Solução do sistema com 3 algarismos:  [1.0, 2.0]\n"
          ]
        }
      ]
    },
    {
      "cell_type": "markdown",
      "source": [
        "#Conclusão\n",
        "O Método de pivotamento Parcial é uma técnica que consiste em substituir linhas durante o processo de Eliminação de Gauss, com o objetivo de evitar divisões por valores próximos a zero e reduzir a acumulação de erros de arredondamento. Essa abordagem contribui para aprimorar a precisão numérica do algoritmo, especialmente quando a matriz contém elementos de magnitude reduzida na sua diagonal principal."
      ],
      "metadata": {
        "id": "Sm5Y9z5KvqWn"
      }
    }
  ]
}