{
  "nbformat": 4,
  "nbformat_minor": 0,
  "metadata": {
    "colab": {
      "provenance": [],
      "collapsed_sections": [
        "LCeIuOlsfOiq",
        "YuRmFaeDeplm",
        "ZLtffG0lyen4",
        "R0o7xZycU5dt"
      ]
    },
    "kernelspec": {
      "name": "python3",
      "display_name": "Python 3"
    },
    "language_info": {
      "name": "python"
    }
  },
  "cells": [
    {
      "cell_type": "markdown",
      "source": [
        "# ***Relatório 1 - Resolução Numérica de Equações Algébricas e Transcendentes.***"
      ],
      "metadata": {
        "id": "ON7j0LIya641"
      }
    },
    {
      "cell_type": "markdown",
      "source": [
        "# **Imports**"
      ],
      "metadata": {
        "id": "MLtj9yZ1aARC"
      }
    },
    {
      "cell_type": "code",
      "source": [
        "import sympy as sp\n",
        "import matplotlib.pyplot as plt\n",
        "import numpy as np\n",
        "import time\n",
        "import psutil"
      ],
      "metadata": {
        "id": "uyb2jDGUkIrP"
      },
      "execution_count": null,
      "outputs": []
    },
    {
      "cell_type": "markdown",
      "source": [
        "# **Função para Plotagem Gráfica**"
      ],
      "metadata": {
        "id": "Vwqk_53bSNOd"
      }
    },
    {
      "cell_type": "code",
      "source": [
        "def plotagem(f, a, b):\n",
        "  x_vals = np.linspace(a, b, 500)\n",
        "  y_vals = f(x_vals)\n",
        "\n",
        "  plt.plot(x_vals, y_vals)\n",
        "  plt.xlabel('x')\n",
        "  plt.ylabel('f(x)')\n",
        "  plt.title('Gráfico de f(x)')\n",
        "  plt.grid(True)\n",
        "  plt.axhline(y=0, color='black', linestyle='dashed')\n",
        "  plt.show()"
      ],
      "metadata": {
        "id": "ztP5F4enYfxO"
      },
      "execution_count": null,
      "outputs": []
    },
    {
      "cell_type": "markdown",
      "source": [
        "# **Método da Bissecção**"
      ],
      "metadata": {
        "id": "LCeIuOlsfOiq"
      }
    },
    {
      "cell_type": "code",
      "source": [
        "def bisseccao(a, b, epsilon=None, max_iterations=None):\n",
        "    if f(a) * f(b) > 0:\n",
        "        return None\n",
        "\n",
        "    iterations = 0\n",
        "    while True:\n",
        "        c = (a + b) / 2\n",
        "        fc = f(c)\n",
        "\n",
        "        if fc == 0 or (epsilon is not None and abs(b - a) < epsilon) or (max_iterations is not None and iterations >= max_iterations):\n",
        "            return iterations, c\n",
        "\n",
        "        if f(a) * fc < 0:\n",
        "            b = c\n",
        "        else:\n",
        "            a = c\n",
        "\n",
        "        iterations += 1\n"
      ],
      "metadata": {
        "id": "LJUlDTvJhpgn"
      },
      "execution_count": null,
      "outputs": []
    },
    {
      "cell_type": "markdown",
      "source": [
        "# **Método Raphson**"
      ],
      "metadata": {
        "id": "YuRmFaeDeplm"
      }
    },
    {
      "cell_type": "code",
      "source": [
        "def newton_raphson(func, x0, epsilon, max_iterations):\n",
        "    x = sp.Symbol('x')\n",
        "    f = sp.sympify(func)\n",
        "    f_prime = f.diff(x)\n",
        "    f = sp.lambdify(x, f)\n",
        "    f_prime = sp.lambdify(x, f_prime)\n",
        "\n",
        "    x_n = x0\n",
        "    iteration = 0\n",
        "    if max_iterations is not None and epsilon is not None:\n",
        "      while abs(f(x_n)) > epsilon and iteration < max_iterations:\n",
        "        if f_prime(x_n) == 0:\n",
        "          return None\n",
        "        x_n = x_n - f(x_n) / f_prime(x_n)\n",
        "        iteration += 1\n",
        "\n",
        "      if abs(f(x_n)) <= epsilon:\n",
        "          return iteration, x_n\n",
        "      else:\n",
        "          return None\n",
        "    if max_iterations == None:\n",
        "      while abs(f(x_n)) > epsilon:\n",
        "        if f_prime(x_n) == 0:\n",
        "          return None\n",
        "        x_n = x_n - f(x_n) / f_prime(x_n)\n",
        "        iteration += 1\n",
        "\n",
        "      if abs(f(x_n)) <= epsilon:\n",
        "          return iteration, x_n\n",
        "      else:\n",
        "          return None"
      ],
      "metadata": {
        "id": "aiUjC5MKe1MP"
      },
      "execution_count": null,
      "outputs": []
    },
    {
      "cell_type": "markdown",
      "source": [
        "# **Método da Falsa Posição**"
      ],
      "metadata": {
        "id": "ZLtffG0lyen4"
      }
    },
    {
      "cell_type": "code",
      "source": [
        "def falsa_posicao(a, b, epsilon, max_iterations):\n",
        "    if f(a) * f(b) >= 0:\n",
        "        return None\n",
        "\n",
        "    x = (a * f(b) - b * f(a)) / (f(b) - f(a))\n",
        "    iterations = 0\n",
        "\n",
        "    if max_iterations is None:\n",
        "        while abs(f(x)) > epsilon:\n",
        "            iterations += 1\n",
        "            if f(a) * f(x) < 0.0:\n",
        "                b = x\n",
        "            else:\n",
        "                a = x\n",
        "            x = (a * f(b) - b * f(a)) / (f(b) - f(a))\n",
        "    else:\n",
        "        while abs(f(x)) > epsilon and iterations < max_iterations:\n",
        "            iterations += 1\n",
        "            if f(a) * f(x) < 0.0:\n",
        "                b = x\n",
        "            else:\n",
        "                a = x\n",
        "            x = (a * f(b) - b * f(a)) / (f(b) - f(a))\n",
        "\n",
        "    return iterations, x\n"
      ],
      "metadata": {
        "id": "0qfwWaWYydq9"
      },
      "execution_count": null,
      "outputs": []
    },
    {
      "cell_type": "markdown",
      "source": [
        "# **Método da Secante**"
      ],
      "metadata": {
        "id": "R0o7xZycU5dt"
      }
    },
    {
      "cell_type": "code",
      "source": [
        "def secante(f, x0, x1, epsilon, max_iterations):\n",
        "    iterations = 0\n",
        "    if max_iterations is None:\n",
        "      while abs(f(x1)) > epsilon:\n",
        "          x_new = x1 - (f(x1) * (x1 - x0)) / (f(x1) - f(x0))\n",
        "          x0, x1 = x1, x_new\n",
        "          iterations += 1\n",
        "    else:\n",
        "      while abs(f(x1)) > epsilon and iterations < max_iterations:\n",
        "          x_new = x1 - (f(x1) * (x1 - x0)) / (f(x1) - f(x0))\n",
        "          x0, x1 = x1, x_new\n",
        "          iterations += 1\n",
        "    return iterations, x1\n"
      ],
      "metadata": {
        "id": "bqcFEYbZU_gH"
      },
      "execution_count": null,
      "outputs": []
    },
    {
      "cell_type": "markdown",
      "source": [
        "# **Exercício 1**\n",
        "\n"
      ],
      "metadata": {
        "id": "Q1QiqdvSbZbQ"
      }
    },
    {
      "cell_type": "markdown",
      "source": [
        "> Considere o polinômio P (x) = x³ - 36x² + 188x - 240\n",
        "\n",
        "Verifique que um dos zeros de P(x) se localiza no intervalo [29.5, 31].\n",
        "Para aproximar o zero referido, podem ser usadas diferentes estratégias como, por\n",
        "exemplo:\n",
        "\n",
        "---\n",
        "\n",
        "\n",
        "1.   Método da Bissecção no referido intervalo, com tol= 10e-4;\n",
        "2.   Método de Newton-Raphson, com a aproximação inicial x(0) = 29.5 e tol= 10e-4\n",
        "\n",
        "Compare os resultados obtidos com os dois métodos"
      ],
      "metadata": {
        "id": "Ug7n4pP4y2Uj"
      }
    },
    {
      "cell_type": "code",
      "source": [
        "def f(x):\n",
        "  return x**3 - 36*x**2 + 188*x - 240\n",
        "a = 29.5\n",
        "b = 31.0\n",
        "plotagem(f, a, b)\n",
        "# Chamada para Bissecção\n",
        "print(\"\\n---Método da Bissecção---\")\n",
        "print(\"Os resultados foram: \")\n",
        "a = 29.5\n",
        "b = 31.0\n",
        "epsilon = 10e-4\n",
        "max_iterations = None\n",
        "resultado = bisseccao(a, b, epsilon, max_iterations)\n",
        "if resultado is None:\n",
        "    print(\"não convergiu para uma raiz.\")\n",
        "else:\n",
        "    iteracoes, raiz = resultado\n",
        "    print(\"Número de iterações:\", iteracoes)\n",
        "    print(\"A raiz aproximada é:\", raiz)\n",
        "# Chamada para Método raphson\n",
        "print(\"\\n---Método de Newton Raphson---\")\n",
        "print(\"Os resultados foram: \")\n",
        "\n",
        "func = 'x**3 - 36*x**2 + 188*x - 240'\n",
        "x0 = 29.5\n",
        "epsilon = 1e-4\n",
        "max_iterations = 100\n",
        "resultado = newton_raphson(func, x0, epsilon, max_iterations)\n",
        "\n",
        "if resultado is None:\n",
        "    print(\"não convergiu para uma raiz.\")\n",
        "else:\n",
        "    iteracoes, raiz = resultado\n",
        "    print(\"Número de iterações:\", iteracoes)\n",
        "    print(\"A raiz aproximada é:\", raiz)"
      ],
      "metadata": {
        "colab": {
          "base_uri": "https://localhost:8080/",
          "height": 646
        },
        "id": "9wBt3M1riRGI",
        "outputId": "3e7421d2-2069-4f9c-af11-98b51d321bf7"
      },
      "execution_count": null,
      "outputs": [
        {
          "output_type": "display_data",
          "data": {
            "text/plain": [
              "<Figure size 640x480 with 1 Axes>"
            ],
            "image/png": "[encoded data removed]"
          },
          "metadata": {}
        },
        {
          "output_type": "stream",
          "name": "stdout",
          "text": [
            "\n",
            "---Método da Bissecção---\n",
            "Os resultados foram: \n",
            "Número de iterações: 11\n",
            "A raiz aproximada é: 29.9998779296875\n",
            "\n",
            "---Método de Newton Raphson---\n",
            "Os resultados foram: \n",
            "Número de iterações: 3\n",
            "A raiz aproximada é: 30.00000000006042\n"
          ]
        }
      ]
    },
    {
      "cell_type": "markdown",
      "source": [
        "\n",
        "\n",
        "> Resultados Obtidos\n",
        "Esses resultados nos mostram, que apesar do método da bissecção nos trazer um resultado mais aproximado, ele teve uma perfomance pior em relação ao de newton raphson, onde raphson teve somente 3 repetições e a bissecção teve 11."
      ],
      "metadata": {
        "id": "hyN4RmzDiP3f"
      }
    },
    {
      "cell_type": "markdown",
      "source": [
        "#**Exercício 2**"
      ],
      "metadata": {
        "id": "3ZSjAycfzpKJ"
      }
    },
    {
      "cell_type": "markdown",
      "source": [
        "Aplique o método da Falsa Posição para calcular a raiz de x² - 5 = 0 com tol =\n",
        "0.01\n",
        "\n",
        "\n",
        "---\n",
        "\n",
        "\n",
        "1.   partindo do intervalo inicial [2,2.5];\n",
        "2.   partindo do intervalo inicial [2,3].\n",
        "\n",
        "Podemos afirmar que a raiz exata x = x' ± tol ? Justifique\n"
      ],
      "metadata": {
        "id": "Narp1AVLz6xR"
      }
    },
    {
      "cell_type": "code",
      "source": [
        "def f(x):\n",
        "  return x**2 - 5\n",
        "\n",
        "# chamada do método de falsa posição para intervalos [2, 2.5] e [2,3]\n",
        "print(\"Chamada para falsa posição\")\n",
        "print(\"\\nIntervalo [2, 2.5]\")\n",
        "a = 2\n",
        "b = 2.5\n",
        "e = 0.01\n",
        "max_interacoes = None\n",
        "resultado = falsa_posicao(a, b, e, max_interacoes)\n",
        "\n",
        "if resultado is None:\n",
        "    print(\"Não foi possível realizar o cálculo\")\n",
        "else:\n",
        "    iteracoes, raiz = resultado\n",
        "    print(\"Número de iterações:\", iteracoes)\n",
        "    print(\"A raiz aproximada é:\", raiz)\n",
        "print(\"\\nIntervalo [2, 3]\")\n",
        "a = 2\n",
        "b = 3\n",
        "e = 0.01\n",
        "max_interacoes = None\n",
        "resultado2 = falsa_posicao(a, b, e, max_interacoes)\n",
        "\n",
        "if resultado2 is None:\n",
        "    print(\"Não foi possível realizar o cálculo\")\n",
        "else:\n",
        "    iteracoes2, raiz2 = resultado2\n",
        "    print(\"Número de iterações:\", iteracoes2)\n",
        "    print(\"A raiz aproximada é:\", raiz2)\n",
        "\n",
        "plotagem(f, a, b)"
      ],
      "metadata": {
        "colab": {
          "base_uri": "https://localhost:8080/",
          "height": 628
        },
        "id": "-fxZcapp9HDs",
        "outputId": "42cd06d5-ae82-4c33-ce9a-f13cd599a107"
      },
      "execution_count": null,
      "outputs": [
        {
          "output_type": "stream",
          "name": "stdout",
          "text": [
            "Chamada para falsa posição\n",
            "\n",
            "Intervalo [2, 2.5]\n",
            "Número de iterações: 1\n",
            "A raiz aproximada é: 2.2352941176470584\n",
            "\n",
            "Intervalo [2, 3]\n",
            "Número de iterações: 2\n",
            "A raiz aproximada é: 2.2352941176470584\n"
          ]
        },
        {
          "output_type": "display_data",
          "data": {
            "text/plain": [
              "<Figure size 640x480 with 1 Axes>"
            ],
            "image/png": "[encoded data removed]"
          },
          "metadata": {}
        }
      ]
    },
    {
      "cell_type": "markdown",
      "source": [
        "Não podemos afirmar, mas com certeza é um valor muito próximo, visto que a raiz exata para essa função é x ≈ 2.23607.\n",
        "caso somarmos o resultado ao epsilon, teremos um resultado mais longe do aproximado"
      ],
      "metadata": {
        "id": "XW8Fq4vkNuo7"
      }
    },
    {
      "cell_type": "markdown",
      "source": [
        "#**Exercício 3**"
      ],
      "metadata": {
        "id": "Gt5rYk4WOeSP"
      }
    },
    {
      "cell_type": "markdown",
      "source": [
        "Considere a equação e^1/x - x = 0.\n",
        "\n",
        "\n",
        "---\n",
        "\n",
        "\n",
        "\n",
        "1.   Mostre graficamente que a equação anterior tem uma única raiz no intervalo\n",
        "[1,2].\n",
        "2.    Considere a aproximação inicial x(0) = 1. Verifique o método de Newton -\n",
        "Raphson converge.\n",
        "\n"
      ],
      "metadata": {
        "id": "Btu_6jicOkbJ"
      }
    },
    {
      "cell_type": "code",
      "source": [
        "# Chamada para Método raphson\n",
        "def f(x):\n",
        "  return np.exp(1/x) - x\n",
        "a = 1\n",
        "b = 2\n",
        "plotagem(f, a, b)\n",
        "print(\"\\n---Método de Newton Raphson---\")\n",
        "x = sp.Symbol('x')\n",
        "func = sp.exp(1/x) - x\n",
        "x0 = 1.0\n",
        "epsilon = 10e-10000\n",
        "max_iterations = 1000000\n",
        "resultado = newton_raphson(func, x0, epsilon, max_iterations)\n",
        "\n",
        "if resultado is None:\n",
        "    print(\"não convergiu para uma raiz.\")\n",
        "else:\n",
        "    iteracoes, raiz = resultado\n",
        "    print(\"Número de iterações:\", iteracoes)\n",
        "    print(\"A raiz aproximada é:\", raiz)"
      ],
      "metadata": {
        "colab": {
          "base_uri": "https://localhost:8080/",
          "height": 541
        },
        "id": "t2Yk0olUOh8n",
        "outputId": "30a96843-ddf7-47ef-bf2b-06dd609711b1"
      },
      "execution_count": null,
      "outputs": [
        {
          "output_type": "display_data",
          "data": {
            "text/plain": [
              "<Figure size 640x480 with 1 Axes>"
            ],
            "image/png": "[encoded data removed]"
          },
          "metadata": {}
        },
        {
          "output_type": "stream",
          "name": "stdout",
          "text": [
            "\n",
            "---Método de Newton Raphson---\n",
            "Número de iterações: 6\n",
            "A raiz aproximada é: 1.7632228343518968\n"
          ]
        }
      ]
    },
    {
      "cell_type": "markdown",
      "source": [
        "# **Exercício 4**"
      ],
      "metadata": {
        "id": "eVzqn_sOaghk"
      }
    },
    {
      "cell_type": "markdown",
      "source": [
        "A recolha de energia solar através da focagem de um campo plano de espelhos\n",
        "numa central de recolha foi estudada por Vant-Hull (1976).\n",
        "\n",
        "A equação para a concentração geométrica do fator C é dada por:\n",
        "\n",
        "\\begin{equation}\n",
        "c = \\frac{\\pi \\left(\\frac{h}{\\cos(A)}\\right)^2 F}{0.5 \\pi D^2 (1 + \\sin(A) - 0.5 \\cos(A))}\n",
        "\\end{equation}\n",
        "\n",
        "em que:\n",
        "\\begin{align*}\n",
        "A & \\text{ é o ângulo do campo} \\\\\n",
        "F & \\text{ é a cobertura da fração do campo com espelhos} \\\\\n",
        "D & \\text{ é o diâmetro do coletor} \\\\\n",
        "h & \\text{ é o comprimento do coletor}\n",
        "\\end{align*}\n",
        "\n",
        "Considerando os seguintes valores:\n",
        "\\begin{align*}\n",
        "h & = 300 \\\\\n",
        "F & = 0.8 \\\\\n",
        "D & = 14 \\\\\n",
        "\\end{align*}\n",
        "\n",
        "Vamos calcular o ângulo positivo A inferior a $\\frac{\\pi}{25}$ para o qual a concentração do fator C é 1200.\n",
        "\n",
        "Utilizaremos o método iterativo com critério de paragem $\\varepsilon_1 = \\varepsilon_2 = 1e-3$ ou no máximo 3 iterações.\n"
      ],
      "metadata": {
        "id": "_OYMCY1we5MM"
      }
    },
    {
      "cell_type": "code",
      "source": [
        "def f(x):\n",
        "    h = 300\n",
        "    F = 0.8\n",
        "    D = 14\n",
        "    cos_A = np.cos(x)\n",
        "    sen_A = np.sin(x)\n",
        "    pi = np.pi\n",
        "\n",
        "    numerador = pi * (h / cos_A) ** 2 * F\n",
        "    denominador = 0.5 * pi * D ** 2 * (1 + sen_A - 0.5 * cos_A)\n",
        "\n",
        "    f = numerador / denominador\n",
        "\n",
        "    return f - 1200\n",
        "# Chamada para Bissecção\n",
        "a = 0\n",
        "b = np.pi / 25\n",
        "plotagem(f, a, b)\n",
        "print(\"\\n---Método da Bissecção---\")\n",
        "a = 0\n",
        "b = np.pi / 25\n",
        "epsilon = 1e-3\n",
        "max_iterations = 3\n",
        "resultado = bisseccao(a, b, epsilon, max_iterations)\n",
        "if resultado is None:\n",
        "    print(\"não convergiu para uma raiz.\")\n",
        "else:\n",
        "    iteracoes, raiz = resultado\n",
        "    print(\"Os resultados foram: \")\n",
        "    print(\"Número de iterações:\", iteracoes)\n",
        "    print(\"A raiz aproximada é:\", raiz)\n",
        "print(\"Usando outros Métodos\")\n",
        "print(\"\\nUtilizando o Método da falsa posição\")\n",
        "a = 0\n",
        "b = np.pi / 25\n",
        "e = 1e-3\n",
        "max_interacoes = 3\n",
        "resultado = falsa_posicao(a, b, e, max_interacoes)\n",
        "\n",
        "if resultado is None:\n",
        "    print(\"não convergiu para uma raiz.\")\n",
        "else:\n",
        "    iteracoes, raiz = resultado\n",
        "    print(\"Número de iterações:\", iteracoes)\n",
        "    print(\"A raiz aproximada é:\", raiz)\n",
        "# Utilizando o método da secante\n",
        "print(\"\\nUtilizando o Método da Secante\")\n",
        "x0 = 0\n",
        "x1 = np.pi / 25\n",
        "epsilon = 1e-3\n",
        "max_iterations = 3\n",
        "resultado = secante(f, x0, x1, epsilon, max_iterations)\n",
        "if resultado is None:\n",
        "    print(\"não convergiu para uma raiz.\")\n",
        "else:\n",
        "    iteracoes, raiz = resultado\n",
        "    print(\"Número de iterações:\", iteracoes)\n",
        "    print(\"A raiz aproximada é:\", raiz)\n"
      ],
      "metadata": {
        "colab": {
          "base_uri": "https://localhost:8080/",
          "height": 715
        },
        "id": "BTctXlp3beWb",
        "outputId": "479adbe0-7550-41ed-b972-441800352a40"
      },
      "execution_count": null,
      "outputs": [
        {
          "output_type": "display_data",
          "data": {
            "text/plain": [
              "<Figure size 640x480 with 1 Axes>"
            ],
            "image/png": "[encoded data removed]"
          },
          "metadata": {}
        },
        {
          "output_type": "stream",
          "name": "stdout",
          "text": [
            "\n",
            "---Método da Bissecção---\n",
            "Os resultados foram: \n",
            "Número de iterações: 3\n",
            "A raiz aproximada é: 0.11780972450961726\n",
            "Usando outros Métodos\n",
            "\n",
            "Utilizando o Método da falsa posição\n",
            "Número de iterações: 3\n",
            "A raiz aproximada é: 0.11763429627155864\n",
            "\n",
            "Utilizando o Método da Secante\n",
            "Número de iterações: 3\n",
            "A raiz aproximada é: 0.11760920302195922\n"
          ]
        }
      ]
    },
    {
      "cell_type": "markdown",
      "source": [
        "Até a 3º casa decimais dos 3 métodos utilizados, o resultado da raiz se manteve o mesmo, a partir da 4 casa tivemos alguns valores mais aproximados"
      ],
      "metadata": {
        "id": "k_QkBy8C2mmq"
      }
    },
    {
      "cell_type": "markdown",
      "source": [
        "# **Exercício 5**"
      ],
      "metadata": {
        "id": "NqZDxhPGFlw-"
      }
    },
    {
      "cell_type": "markdown",
      "source": [
        "Um certo equipamento de 20000 reais vai ser pago durante 6 anos. O pagamento\n",
        "anual é de 4000 reais. A relação entre o custo do equipamento P, o pagamento\n",
        "anual A, o número de anos n e a taxa de juro i é a seguinte:\n",
        "\n",
        "em que:\n",
        "\\begin{equation}\n",
        "A = P \\cdot \\frac{{i \\cdot(1+i)^n}}{{(1+i)^n - 1}}\n",
        "\\end{equation}\n",
        "\n",
        "\n",
        "\\begin{align*}\n",
        "A & \\text{ o pagamento anual} \\\\\n",
        "P & \\text{ A relação entre o custo do equipamento} \\\\\n",
        "n & \\text{ o número de anos } \\\\\n",
        "i & \\text{ a taxa de juro}\n",
        "\\end{align*}\n",
        "\n",
        "Considerando os seguintes valores:\n",
        "\\begin{align*}\n",
        "A & = R$4.000 \\\\\n",
        "P & = R$20.000 \\\\\n",
        "n & = 6 \\\\\n",
        "i & = X\n",
        "\\end{align*}\n",
        "\n",
        "\n",
        "Utilize os métodos da Bissecção, Falsa Posição, Newton-Raphson e Secante para\n",
        "determinar a taxa de juro utilizada nos cálculos. O valor da taxa de juro pertence\n",
        "ao intervalo [0.05, 0.15].\n",
        "\n",
        "Para a paragem do processo iterativo use ε1 = ε2 = 0.05 ou no máximo 3 iterações.\n",
        "\n",
        "Compare e explique os resultados obtidos por cada\n",
        "método (por exemplo: rapidez da convergência e esforço computacional)"
      ],
      "metadata": {
        "id": "v1_O8SbEFqOp"
      }
    },
    {
      "cell_type": "code",
      "source": [
        "def f(i):\n",
        "    P = 20000\n",
        "    n = 6\n",
        "    A = 4000\n",
        "    return (P*((i*(1+i)**n)/((1+i)**n-1)))-A\n",
        "# Chamada para Bissecção\n",
        "a = 0.05\n",
        "b = 0.15\n",
        "epsilon = 0.05\n",
        "max_iterations = 3\n",
        "inicio = time.time()\n",
        "resultado = bisseccao(a, b, epsilon, max_iterations)\n",
        "cpu_percent_bisseccao = psutil.cpu_percent()\n",
        "fim = time.time()\n",
        "t_decorrido_bisseccao = fim - inicio\n",
        "if resultado is None:\n",
        "    print(\"não convergiu para uma raiz.\")\n",
        "else:\n",
        "    iteracoes_bisseccao, raiz_bisseccao = resultado\n",
        "inicio = time.time()\n",
        "resultado = falsa_posicao(a, b, e, max_interacoes)\n",
        "cpu_percent_f_posicao = psutil.cpu_percent()\n",
        "fim = time.time()\n",
        "t_decorrido_f_posicao = fim - inicio\n",
        "if resultado is None:\n",
        "    print(\"Não foi possível realizar o cálculo\")\n",
        "else:\n",
        "    iteracoes_f_posicao, raiz_f_posicao = resultado\n",
        "x = sp.Symbol('x')\n",
        "P = 20000\n",
        "n = 6\n",
        "A = 4000\n",
        "func = (P*((x*(1+x)**n)/((1+x)**n-1)))-A\n",
        "x0 = 0.05\n",
        "epsilon = 0.05\n",
        "max_iterations = 3\n",
        "inicio = time.time()\n",
        "resultado = newton_raphson(func, x0, epsilon, max_iterations)\n",
        "cpu_percent_raphson = psutil.cpu_percent()\n",
        "fim = time.time()\n",
        "t_decorrido_raphson = fim - inicio\n",
        "if resultado is None:\n",
        "    print(\"não convergiu para uma raiz.\")\n",
        "else:\n",
        "    iteracoes_raphson, raiz_raphson = resultado\n",
        "\n",
        "x0 = 0.05\n",
        "x1 = 0.15\n",
        "epsilon = 0.05\n",
        "max_iterations = 3\n",
        "inicio = time.time()\n",
        "resultado = secante(f, x0, x1, epsilon, max_iterations)\n",
        "cpu_percent_secante = psutil.cpu_percent()\n",
        "fim = time.time()\n",
        "t_decorrido_secante = fim - inicio\n",
        "if resultado is None:\n",
        "    print(\"não convergiu para uma raiz.\")\n",
        "else:\n",
        "    iteracoes_secante, raiz_secante = resultado\n",
        "\n",
        "from tabulate import tabulate\n",
        "a = 0.05\n",
        "b = 0.15\n",
        "plotagem(f, a, b)\n",
        "# Dados da tabela\n",
        "dados = [\n",
        "    ['Bisseção', iteracoes_bisseccao, raiz_bisseccao, t_decorrido_bisseccao, f\"{cpu_percent_bisseccao}%\"],\n",
        "    ['Falsa Posição', iteracoes_f_posicao, raiz_f_posicao, t_decorrido_f_posicao, f\"{cpu_percent_f_posicao}%\"],\n",
        "    ['Newton Raphson', iteracoes_raphson, raiz_raphson, t_decorrido_raphson,  f\"{cpu_percent_raphson}%\"],\n",
        "    ['Secante', iteracoes_secante, raiz_secante, t_decorrido_secante, f\"{cpu_percent_secante}%\"]\n",
        "]\n",
        "\n",
        "# Imprime a tabela usando tabulate\n",
        "print(\"\\n\\n\")\n",
        "print(tabulate(dados, headers=['Método', 'Iterações', 'Raiz', 'Tempo', 'CPU']))"
      ],
      "metadata": {
        "colab": {
          "base_uri": "https://localhost:8080/",
          "height": 628
        },
        "id": "B-BjOByzKzW6",
        "outputId": "006da62b-d510-47cc-851c-f961d949ce7e"
      },
      "execution_count": null,
      "outputs": [
        {
          "output_type": "display_data",
          "data": {
            "text/plain": [
              "<Figure size 640x480 with 1 Axes>"
            ],
            "image/png": "[encoded data removed]"
          },
          "metadata": {}
        },
        {
          "output_type": "stream",
          "name": "stdout",
          "text": [
            "\n",
            "\n",
            "\n",
            "Método            Iterações       Raiz        Tempo  CPU\n",
            "--------------  -----------  ---------  -----------  -----\n",
            "Bisseção                  2  0.0625     0.000361204  35.3%\n",
            "Falsa Posição             3  0.0547179  0.000320435  0.0%\n",
            "Newton Raphson            2  0.0547179  0.0229414    66.7%\n",
            "Secante                   3  0.0547179  0.000176907  0.0%\n"
          ]
        }
      ]
    },
    {
      "cell_type": "markdown",
      "source": [
        "Somente o método da bissecção foi o mais impreciso, resultando raiz de 0.0625, enquanto todos os outros encontraram raiz de 0.0547179, do resultados de iterações o de Newton Raphson performou melhor, obtendo a raiz em apenas 2 iterações, enquanto a da falsa posição e a da secante ficaram em 3 iterações.\n",
        "\n",
        "os parametros de tempo e cpu foram bastante imprecisos, variando bastante de execuções para execuções, talvez um problema do collab."
      ],
      "metadata": {
        "id": "hSH2-A3RjVvF"
      }
    }
  ]
}